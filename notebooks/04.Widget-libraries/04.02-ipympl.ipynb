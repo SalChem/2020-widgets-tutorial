{
 "cells": [
  {
   "cell_type": "markdown",
   "metadata": {},
   "source": [
    "<!--NAVIGATION-->\n",
    "< [ipyleaflet: Interactive maps](04.01-ipyleaflet.ipynb) | [Contents](00.00-index.ipynb) | [bqplot: complex interactive visualizations](04.03-bqplot.ipynb) >"
   ]
  },
  {
   "cell_type": "markdown",
   "metadata": {},
   "source": [
    "# ipympl: The Matplotlib Jupyter Widget Backend\n",
    "\n",
    "## https://github.com/matplotlib/ipympl\n",
    "\n",
    "\n",
    "Enabling interaction with matplotlib charts in the Jupyter notebook and JupyterLab\n",
    "\n",
    "- BSD-3-Clause\n",
    "\n",
    "**Installation:**\n",
    "\n",
    "```bash\n",
    "conda install -c conda-forge ipympl\n",
    "```"
   ]
  },
  {
   "cell_type": "markdown",
   "metadata": {},
   "source": [
    "Enabling the `widget` backend. This requires ipympl. ipympl can be install via pip or conda."
   ]
  },
  {
   "cell_type": "code",
   "execution_count": 1,
   "metadata": {},
   "outputs": [],
   "source": [
    "%matplotlib widget"
   ]
  },
  {
   "cell_type": "code",
   "execution_count": 2,
   "metadata": {},
   "outputs": [],
   "source": [
    "import numpy as np\n",
    "import matplotlib.pyplot as plt\n",
    "from ipywidgets import VBox, FloatSlider, IntSlider, Button"
   ]
  },
  {
   "cell_type": "markdown",
   "metadata": {},
   "source": [
    "When using the `widget` backend from ipympl, fig.canvas is a proper Jupyter interactive widget, which can be embedded in Layout classes like HBox and Vbox.\n",
    "\n",
    "One can bound figure attributes to other widget values."
   ]
  },
  {
   "cell_type": "code",
   "execution_count": 3,
   "metadata": {},
   "outputs": [
    {
     "data": {
      "application/vnd.jupyter.widget-view+json": {
       "model_id": "8d3f1526bff24bb4bc2a6547fdcb9554",
       "version_major": 2,
       "version_minor": 0
      },
      "text/plain": [
       "Canvas(toolbar=Toolbar(toolitems=[('Home', 'Reset original view', 'home', 'home'), ('Back', 'Back to previous …"
      ]
     },
     "metadata": {},
     "output_type": "display_data"
    }
   ],
   "source": [
    "# Creating a new figure (1)\n",
    "fig = plt.figure()\n",
    "\n",
    "# Simple plot\n",
    "x = np.linspace(0,5,11)\n",
    "y = x ** 3\n",
    "plt.plot(x,y, '-m');"
   ]
  },
  {
   "cell_type": "markdown",
   "metadata": {},
   "source": [
    "Change the window title"
   ]
  },
  {
   "cell_type": "code",
   "execution_count": 4,
   "metadata": {},
   "outputs": [],
   "source": [
    "fig.canvas.set_window_title('My interactive widget-enabled plot')"
   ]
  },
  {
   "cell_type": "markdown",
   "metadata": {},
   "source": [
    "Remove toolbar, header and footer from the plot window"
   ]
  },
  {
   "cell_type": "code",
   "execution_count": 5,
   "metadata": {},
   "outputs": [],
   "source": [
    "fig.canvas.toolbar_visible = False"
   ]
  },
  {
   "cell_type": "code",
   "execution_count": 6,
   "metadata": {},
   "outputs": [],
   "source": [
    "fig.canvas.header_visible = False"
   ]
  },
  {
   "cell_type": "code",
   "execution_count": 7,
   "metadata": {},
   "outputs": [],
   "source": [
    "fig.canvas.footer_visible = False"
   ]
  },
  {
   "cell_type": "markdown",
   "metadata": {},
   "source": [
    "Disable canvas resizing"
   ]
  },
  {
   "cell_type": "code",
   "execution_count": 8,
   "metadata": {},
   "outputs": [],
   "source": [
    "fig.canvas.resizable = False"
   ]
  },
  {
   "cell_type": "markdown",
   "metadata": {},
   "source": [
    "#### Adding widget controls to our figure"
   ]
  },
  {
   "cell_type": "code",
   "execution_count": 9,
   "metadata": {},
   "outputs": [
    {
     "data": {
      "application/vnd.jupyter.widget-view+json": {
       "model_id": "814fe521b7724b5b847226d390600257",
       "version_major": 2,
       "version_minor": 0
      },
      "text/plain": [
       "VBox(children=(FloatSlider(value=1.0, max=2.0, min=0.02), Canvas(toolbar=Toolbar(toolitems=[('Home', 'Reset or…"
      ]
     },
     "metadata": {},
     "output_type": "display_data"
    }
   ],
   "source": [
    "# Disabling internal matplotlib intaractive mode off (we use our own backend)\n",
    "plt.ioff()\n",
    "\n",
    "# Creating a simple slider widget\n",
    "slider = FloatSlider(\n",
    "    value=1.0,\n",
    "    min=0.02,\n",
    "    max=2.0\n",
    ")\n",
    "\n",
    "# New figure object\n",
    "fig = plt.figure()\n",
    "plt.title('Plotting: y=sin({} * x)'.format(slider.value))\n",
    "\n",
    "# 500 even-spaced data points on the x-axis between 0 and 20.\n",
    "x1 = np.linspace(0, 20, 500)\n",
    "\n",
    "# Applying and plotting the sin function for each data point\n",
    "lines = plt.plot(x1, np.sin(slider.value  * x1))\n",
    "\n",
    "# Callback function when our slider changes in value\n",
    "def update_lines(change):\n",
    "    lines[0].set_data(x1, np.sin(change.new * x1))\n",
    "    fig.canvas.draw()\n",
    "    fig.canvas.flush_events()\n",
    "    plt.title('Plotting: y=sin({} * x)'.format(slider.value))\n",
    "\n",
    "# Setting up an event listener for the slider value\n",
    "slider.observe(update_lines, names='value')\n",
    "\n",
    "# Render the slider and figure in a vertical box\n",
    "VBox([slider, fig.canvas])"
   ]
  },
  {
   "cell_type": "markdown",
   "metadata": {},
   "source": [
    "#### 3D plots"
   ]
  },
  {
   "cell_type": "code",
   "execution_count": 10,
   "metadata": {},
   "outputs": [
    {
     "data": {
      "application/vnd.jupyter.widget-view+json": {
       "model_id": "b41834abe4124b768ac046d39ab7f732",
       "version_major": 2,
       "version_minor": 0
      },
      "text/plain": [
       "Canvas(toolbar=Toolbar(toolitems=[('Home', 'Reset original view', 'home', 'home'), ('Back', 'Back to previous …"
      ]
     },
     "metadata": {},
     "output_type": "display_data"
    }
   ],
   "source": [
    "from mpl_toolkits.mplot3d import axes3d\n",
    "\n",
    "# Setting up a new, blank figure object\n",
    "fig = plt.figure()\n",
    "\n",
    "# Adding an axes to the figure\n",
    "ax = fig.add_subplot(111, projection='3d')\n",
    "\n",
    "# Grab some test data.\n",
    "X, Y, Z = axes3d.get_test_data(0.05)\n",
    "\n",
    "# Plot a basic wireframe.\n",
    "ax.plot_surface(X, Y, Z, rstride=10, cstride=10)\n",
    "\n",
    "# Display the plot\n",
    "fig.canvas"
   ]
  },
  {
   "cell_type": "markdown",
   "metadata": {},
   "source": [
    "### Subplots"
   ]
  },
  {
   "cell_type": "code",
   "execution_count": 11,
   "metadata": {},
   "outputs": [
    {
     "data": {
      "application/vnd.jupyter.widget-view+json": {
       "model_id": "298e4bf1a666443dba2b23592d71a382",
       "version_major": 2,
       "version_minor": 0
      },
      "text/plain": [
       "Canvas(toolbar=Toolbar(toolitems=[('Home', 'Reset original view', 'home', 'home'), ('Back', 'Back to previous …"
      ]
     },
     "metadata": {},
     "output_type": "display_data"
    }
   ],
   "source": [
    "# Static sample data\n",
    "np.random.seed(0)\n",
    "\n",
    "# Number of bins for the histogram \n",
    "n_bins = 10\n",
    "x2 = np.random.randn(1000, 3)\n",
    "\n",
    "# a two-by-two plot grid (4 plots)\n",
    "fig3, axes = plt.subplots(nrows=2, ncols=2)\n",
    "ax0, ax1, ax2, ax3 = axes.flatten()\n",
    "\n",
    "# Setting up the colors and generating the top-left histogram\n",
    "colors = ['red', 'tan', 'lime']\n",
    "ax0.hist(x2, n_bins, density=1, histtype='bar', color=colors, label=colors)\n",
    "ax0.legend(prop={'size': 10})\n",
    "ax0.set_title('bars with legend')\n",
    "\n",
    "# Setting up the stacked bar\n",
    "ax1.hist(x2, n_bins, density=1, histtype='bar', stacked=True)\n",
    "ax1.set_title('stacked bar')\n",
    "\n",
    "# Setting up the bottom-left histogram\n",
    "ax2.hist(x2, n_bins, histtype='step', stacked=True, fill=False)\n",
    "ax2.set_title('stack step (unfilled)')\n",
    "\n",
    "# Make a multiple-histogram of data-sets with different length (bottom-right)\n",
    "x_multi = [np.random.randn(n) for n in [10000, 5000, 2000]]\n",
    "ax3.hist(x_multi, n_bins, histtype='bar')\n",
    "ax3.set_title('different sample sizes')\n",
    "\n",
    "# Display the plot\n",
    "fig3.tight_layout()\n",
    "fig3.canvas"
   ]
  },
  {
   "cell_type": "code",
   "execution_count": 12,
   "metadata": {},
   "outputs": [],
   "source": [
    "fig3.canvas.toolbar_position = 'right'"
   ]
  },
  {
   "cell_type": "code",
   "execution_count": 13,
   "metadata": {},
   "outputs": [],
   "source": [
    "fig3.canvas.toolbar_visible = False"
   ]
  },
  {
   "cell_type": "markdown",
   "metadata": {},
   "source": [
    "# Exercise"
   ]
  },
  {
   "cell_type": "markdown",
   "metadata": {},
   "source": [
    "**This is a slightly challenging exercise!**\n",
    "\n",
    "Create a small app which generates and displays a simulation of a stock price (you can use the helper function) and has the following widgets:\n",
    "1. An interactive ipympl canvas with the toolbar on the left hand side\n",
    "2. A slider which selects the number of steps per simulation\n",
    "3. A button to ghenerate new data and update the plot\n",
    "\n",
    "The plot should update whenever there is a change to the slider value, or the button is clicked."
   ]
  },
  {
   "cell_type": "code",
   "execution_count": 14,
   "metadata": {},
   "outputs": [
    {
     "data": {
      "application/vnd.jupyter.widget-view+json": {
       "model_id": "d56c1dd1f83245fb89e29e858b9ae928",
       "version_major": 2,
       "version_minor": 0
      },
      "text/plain": [
       "VBox(children=(IntSlider(value=100, description='Steps', max=150, min=50), Button(description='Generate Data',…"
      ]
     },
     "metadata": {},
     "output_type": "display_data"
    }
   ],
   "source": [
    "# Helper function\n",
    "def generate_timeseries(steps):\n",
    "    return (np.arange(1,steps + 1,1), 100 + np.random.normal(0,1,steps).cumsum())\n",
    "\n",
    "# Starting data\n",
    "x_data, y_data = generate_timeseries(100)\n",
    "\n",
    "# Code goes here\n",
    "fig = plt.figure()\n",
    "lines = plt.plot(x_data, y_data)\n",
    "s1 = IntSlider(description='Steps', min=50, value=100, max=150)\n",
    "b = Button(description='Generate Data')\n",
    "\n",
    "def update_plot(change=None):\n",
    "    x_data, y_data = generate_timeseries(s1.value)\n",
    "    lines[0].set_data(x_data, y_data)\n",
    "    lines[0].axes.set_ylim(min(y_data) - 1, max(y_data) + 1)\n",
    "    lines[0].axes.set_xlim(min(x_data) - 1, max(x_data) + 1)\n",
    "    fig.canvas.draw()\n",
    "    fig.canvas.flush_events()\n",
    "\n",
    "# Setting up an event listener for the slider value\n",
    "s1.observe(update_plot, 'value')\n",
    "\n",
    "# Set up event listener for the button\n",
    "b.on_click(update_plot)\n",
    "\n",
    "# Rendering slider and figure and a vertical box\n",
    "VBox([s1, b, fig.canvas])"
   ]
  }
 ],
 "metadata": {
  "kernelspec": {
   "display_name": "Python 3",
   "language": "python",
   "name": "python3"
  },
  "language_info": {
   "codemirror_mode": {
    "name": "ipython",
    "version": 3
   },
   "file_extension": ".py",
   "mimetype": "text/x-python",
   "name": "python",
   "nbconvert_exporter": "python",
   "pygments_lexer": "ipython3",
   "version": "3.6.8"
  }
 },
 "nbformat": 4,
 "nbformat_minor": 4
}
