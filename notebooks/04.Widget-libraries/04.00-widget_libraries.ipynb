{
 "cells": [
  {
   "cell_type": "markdown",
   "metadata": {},
   "source": [
    "<!--NAVIGATION-->\n",
    "| [Contents](00.00-index.ipynb) | [ipyleaflet: Interactive maps](04.01-ipyleaflet.ipynb) >"
   ]
  },
  {
   "cell_type": "markdown",
   "metadata": {},
   "source": [
    "# More widget libraries"
   ]
  },
  {
   "cell_type": "markdown",
   "metadata": {},
   "source": [
    "There are several widget libraries beyond the core `ipywidgets`. This non-exhaustive list includes a variety of plotting, data analysis, mapping and 3d rendering packages. We will explore some of them in this section.\n",
    "\n",
    "### Author your own widgets library\n",
    "\n",
    " * [ipywidgets: Building a Custom Widget - Email Widget](https://ipywidgets.readthedocs.io/en/stable/examples/Widget%20Custom.html)\n",
    " * [medium: Authoring Custom Jupyter Widgets](https://blog.jupyter.org/authoring-custom-jupyter-widgets-2884a462e724)\n",
    " * cookiecutters:\n",
    "    * https://github.com/jupyter-widgets/widget-cookiecutter\n",
    "    * https://github.com/jupyter-widgets/widget-ts-cookiecutter\n",
    "    \n",
    "### Widgets libraries presented in this tutorial\n",
    "\n",
    "01. [ipyleaflet: Interactive maps](04.01-ipyleaflet.ipynb)\n",
    "02. [ipympl: The Matplotlib Jupyter Widget Backend](04.02-ipympl.ipynb)\n",
    "03. [bqplot: complex interactive visualizations](04.03-bqplot.ipynb)\n",
    "04. [ipycanvas: Interactive Canvas](04.04-ipycanvas.ipynb)\n",
    "05. [ipyvolume: 3D plotting in the notebook](04.05-ipyvolume.ipynb)"
   ]
  }
 ],
 "metadata": {
  "kernelspec": {
   "display_name": "Python 3",
   "language": "python",
   "name": "python3"
  },
  "language_info": {
   "codemirror_mode": {
    "name": "ipython",
    "version": 3
   },
   "file_extension": ".py",
   "mimetype": "text/x-python",
   "name": "python",
   "nbconvert_exporter": "python",
   "pygments_lexer": "ipython3",
   "version": "3.6.8"
  }
 },
 "nbformat": 4,
 "nbformat_minor": 4
}
