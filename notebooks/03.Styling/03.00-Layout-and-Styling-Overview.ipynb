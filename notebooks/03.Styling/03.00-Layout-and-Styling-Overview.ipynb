{
 "cells": [
  {
   "cell_type": "markdown",
   "metadata": {},
   "source": [
    "# Layout and Styling of Jupyter Widgets\n",
    "\n",
    "This section of the tutorial describes \n",
    "\n",
    "+ ## [Layout and Styling of Jupyter Widgets](03.01-widget-layout-and-styling.ipynb)\n",
    "How to lay out and style Jupyter interactive widgets to build rich and *reactive* widget-based applications.\n",
    "\n",
    "+ ## [Container Layout Widgets](03.01-widget-layout-and-styling.ipynb#Container-Layout-Widgets)\n",
    "Some high-level container widgets for laying out widget-based applications.\n",
    "\n",
    "+ ## [Widget Label Styling (*Optional*)](03.02-OPTIONAL-widget-label-styling.ipynb)\n",
    "Layout and styling of widget labels (please read this on your own).\n",
    "\n",
    "+ ## [Predefined Widget Styles (*Optional*)](03.03-OPTIONAL-widget-specific-styling.ipynb)\n",
    "Styling available for some individual widgets (please read this on your own)."
   ]
  }
 ],
 "metadata": {
  "kernelspec": {
   "display_name": "widgets-tutorial",
   "language": "python",
   "name": "widgets-tutorial"
  },
  "language_info": {
   "codemirror_mode": {
    "name": "ipython",
    "version": 3
   },
   "file_extension": ".py",
   "mimetype": "text/x-python",
   "name": "python",
   "nbconvert_exporter": "python",
   "pygments_lexer": "ipython3",
   "version": "3.8.3"
  }
 },
 "nbformat": 4,
 "nbformat_minor": 4
}
